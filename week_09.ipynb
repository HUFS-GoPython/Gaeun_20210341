{
 "cells": [
  {
   "cell_type": "markdown",
   "id": "25ef7b73-fdad-4273-9994-f05b4bac7018",
   "metadata": {},
   "source": [
    "# Object & Class\n",
    "\n",
    "- 객체 사용하는 이유 : 코드의 재사용\n",
    "- 속성과 행동을 가지는 개념\n",
    "    - 고양이 구현 ; 속성) 종, 이름, 글자 / 행동) 뛰다, 먹다 등"
   ]
  },
  {
   "cell_type": "markdown",
   "id": "972ac4d0-9747-4448-990b-c6bd4b661fb4",
   "metadata": {},
   "source": [
    "## 클래스\n",
    "- 객체가 가져야 할 기본 정보를 담음"
   ]
  },
  {
   "cell_type": "code",
   "execution_count": 2,
   "id": "7f0cec3a-2ac1-4d2e-86a8-c325955440f2",
   "metadata": {},
   "outputs": [],
   "source": [
    "# 정의\n",
    "class Cat:\n",
    "    pass"
   ]
  },
  {
   "cell_type": "code",
   "execution_count": 3,
   "id": "45f2149d-b829-4ece-a352-e4d914e19168",
   "metadata": {},
   "outputs": [],
   "source": [
    "cat1 = Cat() # 선언 (괄호 필수 )"
   ]
  },
  {
   "cell_type": "code",
   "execution_count": 4,
   "id": "ed349b09-6fb0-474f-b5c8-9c239daaa1ae",
   "metadata": {},
   "outputs": [],
   "source": [
    "cat2 = Cat() # 추가"
   ]
  },
  {
   "cell_type": "code",
   "execution_count": 6,
   "id": "6300e195-cfaa-4a88-9fc0-e8413c4974f4",
   "metadata": {},
   "outputs": [
    {
     "data": {
      "text/plain": [
       "<__main__.Cat at 0x7feb99734460>"
      ]
     },
     "execution_count": 6,
     "metadata": {},
     "output_type": "execute_result"
    }
   ],
   "source": [
    "cat2 # 주소"
   ]
  },
  {
   "cell_type": "code",
   "execution_count": 7,
   "id": "e920b60a-828b-4c87-a221-dfcce69fff93",
   "metadata": {},
   "outputs": [
    {
     "data": {
      "text/plain": [
       "__main__.Cat"
      ]
     },
     "execution_count": 7,
     "metadata": {},
     "output_type": "execute_result"
    }
   ],
   "source": [
    "type(cat1)"
   ]
  },
  {
   "cell_type": "code",
   "execution_count": 9,
   "id": "9a26e9d6-aa4b-442d-b310-388653b538a1",
   "metadata": {},
   "outputs": [],
   "source": [
    "# 속성 추가\n",
    "cat1.breed = 'maincoon'\n",
    "cat2.breed = 'krshort'"
   ]
  },
  {
   "cell_type": "code",
   "execution_count": 15,
   "id": "cb8fcb24-e489-4397-ac65-26d47f4f05c0",
   "metadata": {},
   "outputs": [
    {
     "data": {
      "text/plain": [
       "'collie'"
      ]
     },
     "execution_count": 15,
     "metadata": {},
     "output_type": "execute_result"
    }
   ],
   "source": [
    "# 클래스 내에서 속성을 정해둘 수 있음\n",
    "class Dog:\n",
    "    breed = 'collie'\n",
    "\n",
    "dog1 = Dog()\n",
    "dog1.breed"
   ]
  },
  {
   "cell_type": "code",
   "execution_count": null,
   "id": "756c1485-0f20-455c-9e8e-af6f5c7b315a",
   "metadata": {},
   "outputs": [],
   "source": []
  },
  {
   "cell_type": "code",
   "execution_count": null,
   "id": "63b1bea4-c9fe-401e-adfb-b42ba6cd8809",
   "metadata": {},
   "outputs": [],
   "source": []
  },
  {
   "cell_type": "code",
   "execution_count": null,
   "id": "f8bfbd8d-1487-4ed2-9a03-7f97d1d0b1b4",
   "metadata": {},
   "outputs": [],
   "source": []
  },
  {
   "cell_type": "markdown",
   "id": "43673bf0-e99a-4d29-a490-5e5b409a8ade",
   "metadata": {},
   "source": [
    "class abc:\n",
    "    def __init__(self, ***):   # 언더바 2개 잊지말자!\n",
    "        self.*** = %%%"
   ]
  },
  {
   "cell_type": "code",
   "execution_count": 2,
   "id": "3d17406c-bccf-4af2-bd01-5f87d094d174",
   "metadata": {},
   "outputs": [
    {
     "data": {
      "text/plain": [
       "'Krshort'"
      ]
     },
     "execution_count": 2,
     "metadata": {},
     "output_type": "execute_result"
    }
   ],
   "source": [
    "class Cat:\n",
    "    def __init__(self, name, breed, color = 'black'):  # 기본값 설정 가능 / 기본적으로 값을 안 받아도 되게끔 설정 -> None 이용\n",
    "        self.name = name # 처음에 들어오는 값\n",
    "        self.breed = breed\n",
    "        self.color = color\n",
    "     \n",
    "    # 행동 설정\n",
    "    def meow(self):\n",
    "        print(f'고양이 (이름={self.name})가 야옹~합니다')\n",
    "    def name_change(self, name):\n",
    "        self.name = name\n",
    "\n",
    "cat3 = Cat('Nabi', 'Krshort')\n",
    "cat3.breed"
   ]
  },
  {
   "cell_type": "code",
   "execution_count": 12,
   "id": "afd187d6-e931-4651-828f-e5a440f36013",
   "metadata": {},
   "outputs": [
    {
     "name": "stdout",
     "output_type": "stream",
     "text": [
      "고양이 (이름=DDung)가 야옹~합니다\n"
     ]
    }
   ],
   "source": [
    "#cat3.meow()\n",
    "#cat3.name\n",
    "\n",
    "cat4 = Cat('DDung', 'ragdoll', 'white')\n",
    "cat4.meow()"
   ]
  },
  {
   "cell_type": "code",
   "execution_count": 20,
   "id": "c350e33a-1ea9-4dc4-aa7d-f64daafedcf1",
   "metadata": {},
   "outputs": [
    {
     "data": {
      "text/plain": [
       "'seoksu'"
      ]
     },
     "execution_count": 20,
     "metadata": {},
     "output_type": "execute_result"
    }
   ],
   "source": [
    "cat3.name_change('seoksu')\n",
    "cat3.name"
   ]
  },
  {
   "cell_type": "markdown",
   "id": "e318bf4c-a8dd-480c-b6e9-308728e448b8",
   "metadata": {},
   "source": [
    "# Getter, setter\n",
    "- 클래스 외부에서 변수 접근을 용이하지 못 하게 함 -> 정보 은닉, 캡슐화"
   ]
  },
  {
   "cell_type": "code",
   "execution_count": 9,
   "id": "8fc7acdd-cf6b-4713-922e-d0dc7aab9b53",
   "metadata": {},
   "outputs": [],
   "source": [
    "class Dog:\n",
    "    def __init__(self, input_name, input_breed):\n",
    "        self.name = input_name\n",
    "        self.breed = input_breed\n",
    "    \n",
    "    def get_breed(self):\n",
    "        # 종 불러오기\n",
    "        print('from the getter') # getter를 제대로 탔는지 알아보기 위해\n",
    "        return self.breed\n",
    "    \n",
    "    def get_name(self):\n",
    "        # 이름 불러오기\n",
    "        print('from the getter') # getter를 제대로 탔는지 알아보기 위해\n",
    "        return self.name\n",
    "    \n",
    "    def set_breed(self, input_breed):\n",
    "        # 종을 바꾸는 작업 \n",
    "        print('from the setter')\n",
    "        self.breed = input_breed\n",
    "        \n",
    "    def set_name(self, input_name):\n",
    "        # 이름을 바꾸는 작업 \n",
    "        print('from the setter')\n",
    "        self.name = input_name\n",
    "        "
   ]
  },
  {
   "cell_type": "code",
   "execution_count": 15,
   "id": "917035e0-a4c3-4860-8ea0-9ed002bbcb55",
   "metadata": {},
   "outputs": [
    {
     "name": "stdout",
     "output_type": "stream",
     "text": [
      "from the getter\n"
     ]
    },
    {
     "data": {
      "text/plain": [
       "'Tod'"
      ]
     },
     "execution_count": 15,
     "metadata": {},
     "output_type": "execute_result"
    }
   ],
   "source": [
    "exdog = Dog('Tod', 'GoldenRetriever')\n",
    "exdog.get_name()"
   ]
  },
  {
   "cell_type": "code",
   "execution_count": 16,
   "id": "561aa2a6-789c-4ca6-968f-4f464be2ba34",
   "metadata": {},
   "outputs": [
    {
     "name": "stdout",
     "output_type": "stream",
     "text": [
      "from the getter\n"
     ]
    },
    {
     "data": {
      "text/plain": [
       "'GoldenRetriever'"
      ]
     },
     "execution_count": 16,
     "metadata": {},
     "output_type": "execute_result"
    }
   ],
   "source": [
    "exdog.get_breed()"
   ]
  },
  {
   "cell_type": "code",
   "execution_count": 17,
   "id": "9affd047-803e-4a75-8c25-a713a51826c5",
   "metadata": {},
   "outputs": [
    {
     "name": "stdout",
     "output_type": "stream",
     "text": [
      "from the setter\n",
      "from the getter\n"
     ]
    },
    {
     "data": {
      "text/plain": [
       "'injeolmi'"
      ]
     },
     "execution_count": 17,
     "metadata": {},
     "output_type": "execute_result"
    }
   ],
   "source": [
    "exdog.set_name('injeolmi')\n",
    "exdog.get_name()"
   ]
  },
  {
   "cell_type": "code",
   "execution_count": null,
   "id": "ec80c2a6-2995-4de2-acd7-b5ff131f4671",
   "metadata": {},
   "outputs": [],
   "source": []
  },
  {
   "cell_type": "code",
   "execution_count": null,
   "id": "a9d0e43a-6bdd-4388-8a3d-cac8eff88865",
   "metadata": {},
   "outputs": [],
   "source": []
  },
  {
   "cell_type": "code",
   "execution_count": null,
   "id": "78b5f22c-3b8a-4a80-b16a-43330c7afc24",
   "metadata": {},
   "outputs": [],
   "source": []
  }
 ],
 "metadata": {
  "kernelspec": {
   "display_name": "Python 3 (ipykernel)",
   "language": "python",
   "name": "python3"
  },
  "language_info": {
   "codemirror_mode": {
    "name": "ipython",
    "version": 3
   },
   "file_extension": ".py",
   "mimetype": "text/x-python",
   "name": "python",
   "nbconvert_exporter": "python",
   "pygments_lexer": "ipython3",
   "version": "3.9.7"
  }
 },
 "nbformat": 4,
 "nbformat_minor": 5
}
